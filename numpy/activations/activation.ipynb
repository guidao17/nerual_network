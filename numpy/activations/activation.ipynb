{
 "cells": [
  {
   "cell_type": "code",
   "execution_count": 47,
   "metadata": {},
   "outputs": [
    {
     "name": "stdout",
     "output_type": "stream",
     "text": [
      "[[0.73105858 0.68520098 0.63542356 0.58257021 0.52774924 0.47225076\n",
      "  0.41742979 0.36457644 0.31479902 0.26894142]]\n"
     ]
    }
   ],
   "source": [
    "from abc import ABC, abstractmethod   #利用adc模块中的ABC提供抽象类的接口\n",
    "import numpy as np\n",
    "class ActivationBase(ABC):\n",
    "    def __init__(self,**kwargs):   #1指定key的参数会以dict的形式保存到kwargs变量中\n",
    "        super().__init__()           #2用于继承父类的属性和方法(抽象类)\n",
    "    def __call__(self,z):          #3该方法能够让类的实例对象，像函数一样被调用\n",
    "        if z.ndim == 1:\n",
    "            z = z.reshape(1 , -1)\n",
    "        return self.fn(z)\n",
    "    @abstractmethod                #4 抽象类的装饰函数\n",
    "    def fn(self,z):\n",
    "        raise NotImplementeError\n",
    "    \n",
    "    @abstractmethod\n",
    "    def grad(self,x,**kwargs):\n",
    "        raise NotImplementedError\n",
    "    \n",
    "\n",
    "class Sigmoid(ActivationBase):\n",
    "    '''\n",
    "    A logistic sigmod activation function.\n",
    "    '''\n",
    "    def __init__(self):\n",
    "        super().__init__()\n",
    "    def __str__(self):             #5 __str__()函数就可以打印对象中具体的属性值(否需要设置则对象返回的是地址)\n",
    "        return \"Sigmoid\"\n",
    "    def fn(self,z):\n",
    "        return 1/(1 + np.exp(z))\n",
    "    def grad(self,x):\n",
    "        return self.fn(x)*(1-self.fn(x))\n",
    "    def grad2(self,x):\n",
    "        return self.grad(x)*(1-2*self.fn(x))\n",
    "\n",
    "A = Sigmoid()\n",
    "x = np.linspace(-1,1,10).astype(float)\n",
    "l=A(x)\n",
    "print(l)"
   ]
  },
  {
   "cell_type": "code",
   "execution_count": 32,
   "metadata": {},
   "outputs": [],
   "source": [
    "#1 args,kwargs的相关介绍\n",
    "#函数方法接受任意个数的参数，其中不指定key的参数会以list形式保存到args变量中，\n",
    "#指定key的参数会以dict的形式保存到kwargs变量中。)\n",
    "def helloWorld(*args, **kwargs):\n",
    "    print('non-key arguments are:')\n",
    "    print(args)\n",
    "    for i in args:\n",
    "        print(i)\n",
    "    print ('key-value arguments are:')\n",
    "    print(kwargs)\n",
    "    for k,w in kwargs.items():\n",
    "        print(k + '=' + w)\n",
    "# helloWorld('I','know',whom='you',what='understrand')"
   ]
  },
  {
   "cell_type": "code",
   "execution_count": 34,
   "metadata": {},
   "outputs": [],
   "source": [
    "#2 super().__init__()作用:子类调用父类\n",
    "class Person(object):\n",
    "    def __init__(self,name):\n",
    "        self.name = name\n",
    "    def print_out(self):\n",
    "        print(self.name)\n",
    "class Audlt(Person):\n",
    "    def __init__(self,name,sex):\n",
    "        self.sex = sex\n",
    "        super().__init__(name)\n",
    "class Teacher(Audlt):\n",
    "    def __init__(self,name,sex,**kwargs):\n",
    "        if 'position' in kwargs.keys():\n",
    "            self.position = kwargs['position']\n",
    "        super().__init__(name,sex)\n",
    "A = Audlt(name ='yinjuan',sex = 'male')\n",
    "# A.print_out()\n",
    "# print(A.sex)\n",
    "B = Teacher(name = 'Cui',sex = 'male',position = 'professor')\n",
    "# B.print_out()\n",
    "# print(B.sex)\n",
    "# print(B.position)"
   ]
  },
  {
   "cell_type": "code",
   "execution_count": 28,
   "metadata": {},
   "outputs": [],
   "source": [
    "# __call__()该方法能够让类像函数一样进行调用\n",
    "class GAN(object):\n",
    "    def __call__(self,kind):\n",
    "        print('This GAN is '+ kind)\n",
    "A = GAN()\n",
    "# A('infoGAN')\n",
    "\n",
    "class Distance_loss(object):\n",
    "    def __init__(self,original_loss):\n",
    "        self.loss = original_loss\n",
    "    def __call__(self,Distance_loss):\n",
    "        self.total_loss = self.loss + Distance_loss\n",
    "#         print(self.total_loss)\n",
    "Distance_loss(10)(20)"
   ]
  },
  {
   "cell_type": "code",
   "execution_count": 39,
   "metadata": {},
   "outputs": [],
   "source": [
    "#4 @abstractmethod 抽象类,对子类的抽象方法进行实例化\n",
    "from abc import ABC , abstractmethod\n",
    "class father(ABC):\n",
    "    @abstractmethod\n",
    "    def func(self,z):\n",
    "        '''\n",
    "        please Implemente in subclass\n",
    "        '''\n",
    "class childern(father):\n",
    "    def func(self,z):\n",
    "        print('__func__ is {}'.format(z))\n",
    "\n",
    "A = childern()\n",
    "# A.func(5)"
   ]
  },
  {
   "cell_type": "code",
   "execution_count": 42,
   "metadata": {},
   "outputs": [
    {
     "name": "stdout",
     "output_type": "stream",
     "text": [
      "Sigmod\n"
     ]
    }
   ],
   "source": [
    "#5  __str__() python中调用print()打印实例化对象时会调用__str__()如果__str__()中有返回值\n",
    "import numpy as np\n",
    "class Sigmod(object):\n",
    "    def __init__(self,input):\n",
    "        self.input = input\n",
    "    def __str__(self):\n",
    "        return 'Sigmod'\n",
    "A = Sigmod(2)\n",
    "print(A)"
   ]
  },
  {
   "cell_type": "code",
   "execution_count": null,
   "metadata": {},
   "outputs": [],
   "source": []
  }
 ],
 "metadata": {
  "kernelspec": {
   "display_name": "Python 3",
   "language": "python",
   "name": "python3"
  },
  "language_info": {
   "codemirror_mode": {
    "name": "ipython",
    "version": 3
   },
   "file_extension": ".py",
   "mimetype": "text/x-python",
   "name": "python",
   "nbconvert_exporter": "python",
   "pygments_lexer": "ipython3",
   "version": "3.6.4"
  }
 },
 "nbformat": 4,
 "nbformat_minor": 2
}
